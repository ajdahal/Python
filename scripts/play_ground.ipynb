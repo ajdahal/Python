{
 "cells": [
  {
   "cell_type": "code",
   "execution_count": 12,
   "metadata": {},
   "outputs": [
    {
     "name": "stdout",
     "output_type": "stream",
     "text": [
      "hello_can you hear me?\n"
     ]
    }
   ],
   "source": [
    "print(\"hello_can you hear me?\")"
   ]
  },
  {
   "cell_type": "code",
   "execution_count": 13,
   "metadata": {},
   "outputs": [
    {
     "name": "stdout",
     "output_type": "stream",
     "text": [
      "Overwriting file_made_from_jupyternotebook.txt\n"
     ]
    }
   ],
   "source": [
    "%%writefile file_made_from_jupyternotebook.txt\n",
    "hello, this is text inside file_made_from_jupyternotebook\n",
    "this is the second line\n",
    "this is the third line"
   ]
  },
  {
   "cell_type": "code",
   "execution_count": 14,
   "metadata": {},
   "outputs": [
    {
     "data": {
      "text/plain": [
       "'/Users/kealthas/Downloads/Python/BootCamp'"
      ]
     },
     "execution_count": 14,
     "metadata": {},
     "output_type": "execute_result"
    }
   ],
   "source": [
    "pwd"
   ]
  },
  {
   "cell_type": "code",
   "execution_count": 15,
   "metadata": {},
   "outputs": [
    {
     "name": "stdout",
     "output_type": "stream",
     "text": [
      "hello, this is text inside file_made_from_jupyternotebook\r\n",
      "this is the second line\r\n",
      "this is the third line\r\n"
     ]
    }
   ],
   "source": [
    "cat file_made_from_jupyternotebook.txt"
   ]
  },
  {
   "cell_type": "code",
   "execution_count": 16,
   "metadata": {},
   "outputs": [
    {
     "name": "stdout",
     "output_type": "stream",
     "text": [
      "<_io.TextIOWrapper name='file_made_from_jupyternotebook.txt' mode='a' encoding='UTF-8'>\n"
     ]
    }
   ],
   "source": [
    "with open('file_made_from_jupyternotebook.txt',mode='a')as new_file:\n",
    "    new_file.write('this is the fourth line')\n",
    "print(new_file)\n",
    "#print(contents)"
   ]
  },
  {
   "cell_type": "code",
   "execution_count": 17,
   "metadata": {},
   "outputs": [
    {
     "name": "stdout",
     "output_type": "stream",
     "text": [
      "hello, this is text inside file_made_from_jupyternotebook\n",
      "this is the second line\n",
      "this is the third line\n",
      "this is the fourth line\n"
     ]
    }
   ],
   "source": [
    "with open('file_made_from_jupyternotebook.txt',mode='r')as new_file:\n",
    "    contents = new_file.read()\n",
    "    new_file.close()\n",
    "print(contents)"
   ]
  },
  {
   "cell_type": "code",
   "execution_count": 18,
   "metadata": {},
   "outputs": [],
   "source": [
    "with open('test.txt','w') as file1:\n",
    "    file1.write('Hello World')\n",
    "    file1.close()"
   ]
  },
  {
   "cell_type": "code",
   "execution_count": 19,
   "metadata": {},
   "outputs": [],
   "source": [
    "def myfunc(string_one):\n",
    "    new_string = ''\n",
    "    for each_character in string_one:\n",
    "        if ((string_one.index(each_character))%2 == 0):\n",
    "            new_string += each_character.lower()\n",
    "        else:\n",
    "            new_string += each_character.upper()\n",
    "    return new_string"
   ]
  },
  {
   "cell_type": "code",
   "execution_count": 20,
   "metadata": {},
   "outputs": [
    {
     "name": "stdout",
     "output_type": "stream",
     "text": [
      "aNtHrOpOmOrpHIsm\n"
     ]
    }
   ],
   "source": [
    "x = myfunc('Anthropomorphism')\n",
    "print(x)"
   ]
  },
  {
   "cell_type": "code",
   "execution_count": 21,
   "metadata": {},
   "outputs": [
    {
     "name": "stdout",
     "output_type": "stream",
     "text": [
      "all libraries imported\n"
     ]
    }
   ],
   "source": [
    "import requests\n",
    "import bs4\n",
    "import lxml\n",
    "print(\"all libraries imported\")"
   ]
  },
  {
   "cell_type": "code",
   "execution_count": null,
   "metadata": {},
   "outputs": [],
   "source": []
  }
 ],
 "metadata": {
  "kernelspec": {
   "display_name": "Python 3",
   "language": "python",
   "name": "python3"
  },
  "language_info": {
   "codemirror_mode": {
    "name": "ipython",
    "version": 3
   },
   "file_extension": ".py",
   "mimetype": "text/x-python",
   "name": "python",
   "nbconvert_exporter": "python",
   "pygments_lexer": "ipython3",
   "version": "3.7.6"
  }
 },
 "nbformat": 4,
 "nbformat_minor": 4
}
