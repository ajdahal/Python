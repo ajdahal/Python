{
 "cells": [
  {
   "cell_type": "code",
   "execution_count": 12,
   "metadata": {},
   "outputs": [],
   "source": [
    "# This is making of BlackJack by ard using concpets of OOP"
   ]
  },
  {
   "cell_type": "code",
   "execution_count": 13,
   "metadata": {},
   "outputs": [],
   "source": [
    "# Multiple Classes: Deck, Player's hand, Money_Track"
   ]
  },
  {
   "cell_type": "code",
   "execution_count": 14,
   "metadata": {},
   "outputs": [],
   "source": [
    "import random \n",
    "\n",
    "suits = (\"Clubs\",\"Spades\",\"Diamonds\",\"Hearts\")\n",
    "ranks = (\"Ace\",\"Two\",\"Three\",\"Four\",\"Five\",\"Six\",\"Seven\",\"Eight\",\"Nine\",\"Ten\",\"Jack\",\"Queen\",\"King\")\n",
    "values = {\"Two\":2,\"Three\":3,\"Four\":4,\"Five\":5,\"Six\":6,\"Seven\":7,\"Eight\":8,\"Nine\":9,\"Ten\":10,\n",
    "              \"Jack\":10,\"Queen\":10,\"King\":10,\"Ace\":11}\n"
   ]
  },
  {
   "cell_type": "code",
   "execution_count": 15,
   "metadata": {},
   "outputs": [],
   "source": [
    "class Card:\n",
    "    \n",
    "    def __init__(self,suit,rank):\n",
    "        self.suit = suit\n",
    "        self.rank = rank\n",
    "        self.value = values[rank]\n",
    "    \n",
    "    def __str__(self):\n",
    "        return self.rank +\" of \"+ self.suit"
   ]
  },
  {
   "cell_type": "code",
   "execution_count": 16,
   "metadata": {},
   "outputs": [],
   "source": [
    "# card = Deck(suits[0],ranks[0])\n",
    "# print(card)"
   ]
  },
  {
   "cell_type": "code",
   "execution_count": 17,
   "metadata": {},
   "outputs": [],
   "source": [
    "class Deck:\n",
    "    \n",
    "    def __init__(self):\n",
    "        self.all_cards = []\n",
    "        #print(\"inside __init__ of Deck\")\n",
    "        for suit in suits:\n",
    "            for rank in ranks:\n",
    "                self.all_cards.append(Card(suit,rank))\n",
    "                \n",
    "    def shuffle(self):\n",
    "        #print(\"inside shuffle\")\n",
    "        random.shuffle(self.all_cards)\n",
    "    \n",
    "    def deal_one(self):\n",
    "        #print(\"inside deal_one\")\n",
    "        #print(len(self.all_cards))\n",
    "        return self.all_cards.pop(0)\n",
    "    "
   ]
  },
  {
   "cell_type": "code",
   "execution_count": 18,
   "metadata": {},
   "outputs": [],
   "source": [
    "# all_cards\n",
    "# all_c = Deck()\n",
    "\n",
    "# for x in all_c.all_cards:\n",
    "#     print(x)\n",
    "    \n",
    "# print(all_c.all_cards[0])"
   ]
  },
  {
   "cell_type": "code",
   "execution_count": 19,
   "metadata": {},
   "outputs": [],
   "source": [
    "class Player:\n",
    "    \n",
    "    def __init__(self,name,initial_amount):\n",
    "        self.name = name\n",
    "        self.initial_amount = initial_amount\n",
    "        self.total_sum = initial_amount\n",
    "        self.all_cards = []\n",
    "        \n",
    "    def add_card(self,provided_card):\n",
    "        return self.all_cards.append(provided_card)\n",
    "    \n",
    "    def return_single_card(self):\n",
    "        return self.all_cards.pop(0)\n",
    "    \n",
    "    def return_all_cards(self):\n",
    "        return self.all_cards\n",
    "    \n",
    "    def remove_all_cards(self):\n",
    "        self.all_cards = []\n",
    "        return self.all_cards\n",
    "    \n",
    "    def player_pay(self,bet_amount,game_state):\n",
    "            \n",
    "        if game_state == \"Tie\":\n",
    "            self.total_sum += 0\n",
    "        elif game_state == \"Lose\" or game_state == \"Bust\":\n",
    "            self.total_sum -= bet_amount\n",
    "        elif game_state == \"Win\":\n",
    "            self.total_sum += bet_amount\n",
    "        elif game_state == \"BlackJack\":\n",
    "            self.total_sum += 1.5 * bet_amount\n",
    "        elif game_state == \"U_BlackJack\":\n",
    "            self.total_sum -= 1.5 * bet_amount\n",
    "        elif game_state == \"House_Bust\":\n",
    "            self.total_sum += 2 * bet_amount\n",
    "        elif game_state == \"U_House_Bust\":\n",
    "            self.total_sum -= 2 * bet_amount\n",
    "        else:\n",
    "            pass\n",
    "        \n",
    "        #print(f\"{self.name} your money has gone from {self.initial_amount} to {self.total_sum}\")"
   ]
  },
  {
   "cell_type": "code",
   "execution_count": 20,
   "metadata": {},
   "outputs": [],
   "source": [
    "def deal_cards(player_object,number_of_cards,list_name):\n",
    "    player_object.remove_all_cards()\n",
    "    for iteration in range(number_of_cards):\n",
    "            player_object.add_card(new_deck.deal_one())\n",
    "    for card in player_object.return_all_cards():\n",
    "        list_name.append(card.value)\n",
    "    return list_name\n",
    "        \n",
    "def game_logic(player_object,list_name,lower):\n",
    "    # needs to be recursive \n",
    "    \n",
    "    sum_elements = 0\n",
    "    #print(\"printing list_name at the start of game_logic\",player_object.name,list_name)\n",
    "\n",
    "    if 21 < sum(list_name) and 11 in list_name:\n",
    "        sum_elements = handle_ace(list_name)\n",
    "        if lower <= sum_elements and sum_elements <= 21:\n",
    "            return sum_elements\n",
    "        elif sum_elements > 21:\n",
    "            return sum_elements\n",
    "        else:\n",
    "            list_name_new = deal_cards(player_object,1,list_name)\n",
    "            return game_logic(player_object,list_name_new,lower_threshold)\n",
    "\n",
    "    elif lower <= sum(list_name) and sum(list_name) <= 21:\n",
    "        return sum(list_name)\n",
    "       \n",
    "    \n",
    "    elif 21 < sum(list_name) and 11 not in list_name:\n",
    "        return sum(list_name)\n",
    "        \n",
    "\n",
    "    else:\n",
    "        list_name_new = deal_cards(player_object,1,list_name)\n",
    "        return game_logic(player_object,list_name_new,lower_threshold)\n",
    "      \n",
    "def handle_ace(list_name):\n",
    "    return sum(list_name) - 10 * list_name.count(11)\n",
    "        \n",
    "def return_check(player_one,player_one_return,player_two,player_two_return):\n",
    "    if player_one_return == player_two_return:\n",
    "        print(\"Its a tie, bet is neither lost nor won \")\n",
    "        player_one.player_pay(bet_amount,\"Tie\")\n",
    "        player_two.player_pay(bet_amount,\"Tie\")\n",
    "    \n",
    "    elif player_two_return > 21:\n",
    "        print(\"House Bust! you are getting paid twice your bet !\")\n",
    "        player_one.player_pay(bet_amount,\"House_Bust\")\n",
    "        player_two.player_pay(bet_amount,\"U_House_Bust\")\n",
    "        \n",
    "    elif player_one_return > player_two_return:\n",
    "        print(\"You have won this round, your cards sum is greater than sum of house's card\")\n",
    "        player_one.player_pay(bet_amount,\"Win\")\n",
    "        player_two.player_pay(bet_amount,\"Lose\")\n",
    "    \n",
    "    elif player_one_return < player_two_return:\n",
    "        print(\"You have lost this round, your cards sum is less than sum of house's card\")\n",
    "        player_one.player_pay(bet_amount,\"Lose\")\n",
    "        player_two.player_pay(bet_amount,\"Win\")\n",
    "    \n",
    "    else:\n",
    "        pass \n",
    "\n",
    "def check_funds(player_one_money,player_two_money,bet_amount):\n",
    "    if player_one_money < bet_amount or player_two_money < bet_amount:\n",
    "        print(\"Insufficient Funds! Game Over!\")\n",
    "        return True"
   ]
  },
  {
   "cell_type": "code",
   "execution_count": 21,
   "metadata": {},
   "outputs": [
    {
     "ename": "NameError",
     "evalue": "name 'player_one' is not defined",
     "output_type": "error",
     "traceback": [
      "\u001b[0;31m---------------------------------------------------------------------------\u001b[0m",
      "\u001b[0;31mNameError\u001b[0m                                 Traceback (most recent call last)",
      "\u001b[0;32m<ipython-input-21-39ce90a3e33f>\u001b[0m in \u001b[0;36m<module>\u001b[0;34m\u001b[0m\n\u001b[1;32m      8\u001b[0m     \u001b[0mplayer_two_cards_list\u001b[0m \u001b[0;34m=\u001b[0m \u001b[0;34m[\u001b[0m\u001b[0;34m]\u001b[0m\u001b[0;34m\u001b[0m\u001b[0;34m\u001b[0m\u001b[0m\n\u001b[1;32m      9\u001b[0m \u001b[0;34m\u001b[0m\u001b[0m\n\u001b[0;32m---> 10\u001b[0;31m     \u001b[0;32mif\u001b[0m \u001b[0mcheck_funds\u001b[0m\u001b[0;34m(\u001b[0m\u001b[0mplayer_one\u001b[0m\u001b[0;34m.\u001b[0m\u001b[0mtotal_sum\u001b[0m\u001b[0;34m,\u001b[0m\u001b[0mplayer_two\u001b[0m\u001b[0;34m.\u001b[0m\u001b[0mtotal_sum\u001b[0m\u001b[0;34m,\u001b[0m\u001b[0mbet_amount\u001b[0m\u001b[0;34m)\u001b[0m\u001b[0;34m:\u001b[0m\u001b[0;34m\u001b[0m\u001b[0;34m\u001b[0m\u001b[0m\n\u001b[0m\u001b[1;32m     11\u001b[0m         \u001b[0;32mbreak\u001b[0m\u001b[0;34m\u001b[0m\u001b[0;34m\u001b[0m\u001b[0m\n\u001b[1;32m     12\u001b[0m \u001b[0;34m\u001b[0m\u001b[0m\n",
      "\u001b[0;31mNameError\u001b[0m: name 'player_one' is not defined"
     ]
    }
   ],
   "source": [
    "#print(\"before calling game logic\")\n",
    "\n",
    "\n",
    "player_one = Player(\"Arjun\",200)\n",
    "player_two = Player(\"House\",300)\n",
    "bet_amount = 50\n",
    "lower = 18\n",
    "lower_threshold = 17\n",
    "\n",
    "while True:\n",
    "    \n",
    "    new_deck = Deck()\n",
    "    new_deck.shuffle()\n",
    "    player_one_cards_list = []\n",
    "    player_two_cards_list = []\n",
    "    \n",
    "    if check_funds(player_one.total_sum,player_two.total_sum,bet_amount):\n",
    "        break\n",
    "    \n",
    "    player_one_cards = deal_cards(player_one,2,player_one_cards_list)\n",
    "    player_two_cards = deal_cards(player_two,2,player_two_cards_list)\n",
    "\n",
    "    player_one_return = game_logic(player_one,player_one_cards,lower)\n",
    "\n",
    "    if player_one_return > 21:\n",
    "        print(\"You have lost this round, your cards sum is greater than 21\")\n",
    "        player_one.player_pay(bet_amount,\"Bust\")\n",
    "        player_two.player_pay(bet_amount,\"Win\")\n",
    "    \n",
    "    elif player_one_return == 21:\n",
    "        print(\"You have won, BlackJack\")\n",
    "        player_one.player_pay(bet_amount,\"BlackJack\")\n",
    "        player_two.player_pay(bet_amount,\"U_BlackJack\")\n",
    "    \n",
    "    else:\n",
    "        player_two_return = game_logic(player_two,player_two_cards,lower_threshold)\n",
    "        return_check(player_one,player_one_return,player_two,player_two_return)\n",
    "\n",
    "if (player_one.total_sum > player_two.total_sum):\n",
    "    print(f\"{player_one.name} wins the game, has ${player_one.total_sum}, but how much money is enough money?\")\n",
    "else:\n",
    "    print(f\"{player_two.name} wins the game, has ${player_two.total_sum}, better luck next time {player_one.name}\")\n",
    "\n",
    "#return_check(player_one,player_one_check)"
   ]
  },
  {
   "cell_type": "code",
   "execution_count": null,
   "metadata": {},
   "outputs": [],
   "source": [
    "\n"
   ]
  },
  {
   "cell_type": "code",
   "execution_count": null,
   "metadata": {},
   "outputs": [],
   "source": []
  }
 ],
 "metadata": {
  "kernelspec": {
   "display_name": "Python 3",
   "language": "python",
   "name": "python3"
  },
  "language_info": {
   "codemirror_mode": {
    "name": "ipython",
    "version": 3
   },
   "file_extension": ".py",
   "mimetype": "text/x-python",
   "name": "python",
   "nbconvert_exporter": "python",
   "pygments_lexer": "ipython3",
   "version": "3.7.6"
  }
 },
 "nbformat": 4,
 "nbformat_minor": 4
}
